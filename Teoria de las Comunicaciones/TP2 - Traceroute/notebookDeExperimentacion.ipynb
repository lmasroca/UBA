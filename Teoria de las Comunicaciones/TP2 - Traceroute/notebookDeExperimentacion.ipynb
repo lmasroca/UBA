{
 "cells": [
  {
   "attachments": {},
   "cell_type": "markdown",
   "id": "a102b31d",
   "metadata": {},
   "source": [
    "<h1>Importamos paquetes</h1>"
   ]
  },
  {
   "cell_type": "code",
   "execution_count": null,
   "id": "676771f2",
   "metadata": {},
   "outputs": [],
   "source": [
    "import logging\n",
    "logging.getLogger(\"scapy.runtime\").setLevel(logging.ERROR)\n",
    "from scapy.all import *\n",
    "from time import *\n",
    "from statistics import mode\n",
    "import pandas as pd\n",
    "import matplotlib.pyplot as plt\n",
    "import requests\n",
    "import socket\n",
    "from tqdm import tqdm\n",
    "import numpy as np\n",
    "import scipy.stats as stats\n",
    "from traceroute import traceroute"
   ]
  },
  {
   "attachments": {},
   "cell_type": "markdown",
   "id": "43aefad8",
   "metadata": {},
   "source": [
    "<h1>Fijamos destino</h1>"
   ]
  },
  {
   "cell_type": "code",
   "execution_count": null,
   "id": "53362960",
   "metadata": {},
   "outputs": [],
   "source": [
    "destino = 'www.google.com'\n",
    "\n",
    "filename = 'traces/' + destino + '.csv'\n",
    "\n",
    "IP_pub_destino = socket.gethostbyname(destino)\n",
    "IP_pub_fuente = requests.get('https://api.ipify.org').text # usamos esto para conseguir nuestra ip publica para el mapa, ya que la primer direccion ip que aparece sera la ip privada del gateway\n",
    "\n",
    "print(\"Vamos desde: \" + IP_pub_fuente + \" hasta: \" + IP_pub_destino + \" guardando en: \" + filename)"
   ]
  },
  {
   "attachments": {},
   "cell_type": "markdown",
   "id": "e9d00549",
   "metadata": {},
   "source": [
    "<h1>Realizamos traceroute</h1>"
   ]
  },
  {
   "cell_type": "code",
   "execution_count": null,
   "id": "0088ed7d-3320-487c-9cd6-321238116b0e",
   "metadata": {},
   "outputs": [],
   "source": [
    "df = traceroute(destino, 30, 25)"
   ]
  },
  {
   "attachments": {},
   "cell_type": "markdown",
   "id": "45b6c13e",
   "metadata": {},
   "source": [
    "<h1>Alcanzamos el destino?</h1>"
   ]
  },
  {
   "cell_type": "code",
   "execution_count": null,
   "id": "882e2b6b",
   "metadata": {},
   "outputs": [],
   "source": [
    "reached = IP_pub_destino == df['ip'].iloc[-1]\n",
    "reached"
   ]
  },
  {
   "attachments": {},
   "cell_type": "markdown",
   "id": "fe3ef65b",
   "metadata": {},
   "source": [
    "<h1>Progresion de RTT total</h1>"
   ]
  },
  {
   "cell_type": "code",
   "execution_count": null,
   "id": "ef90063d",
   "metadata": {},
   "outputs": [],
   "source": [
    "fig, ax = plt.subplots(figsize = (8,6))\n",
    "df.plot(x=\"ttl\", y=\"rttTot\", kind=\"line\" , title=\"RTT total vs TTL\", ax=ax)\n",
    "plt.xlabel('TTL')\n",
    "plt.ylabel('RTT total (ms)')\n",
    "plt.xticks(df['ttl'].tolist())\n",
    "plt.legend(['RTT total'])\n",
    "plt.grid(True)\n",
    "# plt.savefig(filename.replace('.csv', '.svg').replace('traces/', 'svg/'))\n",
    "plt.show()"
   ]
  },
  {
   "attachments": {},
   "cell_type": "markdown",
   "id": "c996cb44",
   "metadata": {},
   "source": [
    "<h1>Marcamos outliers (saltos interoceanicos)</h1>"
   ]
  },
  {
   "attachments": {},
   "cell_type": "markdown",
   "id": "c466482c",
   "metadata": {},
   "source": [
    "<h2>Cimbala</h2>"
   ]
  },
  {
   "cell_type": "code",
   "execution_count": null,
   "id": "4d9b132c",
   "metadata": {},
   "outputs": [],
   "source": [
    "def conseguir_tau(n):\n",
    "    t = stats.t.ppf(1-0.025, n-2)\n",
    "    tau = t * (n - 1) / (np.sqrt(n) * np.sqrt(n - 2 + t**2))\n",
    "    return tau\n",
    "\n",
    "def marcar_outliers(df):\n",
    "    try:\n",
    "        datos = np.sort([rtt for rtt in df[[(not boolean) for boolean in df['outlier']]]['rttHop'].tolist() if rtt > 0])\n",
    "    except:\n",
    "        return df\n",
    "    while len(datos) > 2:\n",
    "        media = np.mean(datos)\n",
    "        desvio_muestral = np.std(datos, ddof=1)\n",
    "        desvio_absoluto = np.abs(datos - media)\n",
    "        maximo = np.max(desvio_absoluto)\n",
    "        rtt_max_des = datos[np.argmax(desvio_absoluto)]\n",
    "        tau = conseguir_tau(len(datos))\n",
    "        if maximo > tau * desvio_muestral:\n",
    "            df.loc[df['rttHop'] == rtt_max_des, 'outlier'] = True\n",
    "            datos = np.delete(datos, np.argmax(desvio_absoluto))\n",
    "        else:\n",
    "            return df\n",
    "    return df\n",
    "\n",
    "df = marcar_outliers(df)\n",
    "df"
   ]
  },
  {
   "attachments": {},
   "cell_type": "markdown",
   "id": "4ce1c3c7",
   "metadata": {},
   "source": [
    "<h1>Grafico opcional para comparar criterios de deteccion de outliers</h1>"
   ]
  },
  {
   "cell_type": "code",
   "execution_count": null,
   "id": "7b4c0dab",
   "metadata": {},
   "outputs": [],
   "source": [
    "def variacion_desvio(df):\n",
    "    datos = df['rttHop'].tolist()\n",
    "    media = np.mean(datos)\n",
    "    desvio_muestral = np.std(datos, ddof=1)\n",
    "    desvio = datos - media\n",
    "    variacion_desvio = desvio / desvio_muestral\n",
    "    return variacion_desvio, datos\n",
    "\n",
    "def graficar_variacion_desvio(filename, _df = None):\n",
    "    if _df is None:\n",
    "        df = pd.read_csv(filename)\n",
    "    else:\n",
    "        df = _df\n",
    "    df = marcar_outliers(df)\n",
    "    data_to_keep = [rtt > 0 for rtt in df['rttHop'].tolist()] \n",
    "    df2 = df[data_to_keep]\n",
    "    desv,rtthops = variacion_desvio(df2)\n",
    "    fig, ax = plt.subplots(figsize = (10,8))\n",
    "    ttls = df2['ttl'].tolist()\n",
    "    percentil = stats.norm.ppf(0.8)\n",
    "    ax.set_axisbelow(True)\n",
    "    plt.grid(True, axis='y')\n",
    "    plt.bar(ttls, desv, color='blue', label='Variación del desvío')\n",
    "    plt.axhline(percentil, color='r', linestyle='--', label='Valor de corte fijo')\n",
    "    plt.axhline(0, color='black')\n",
    "    for i in range(len(rtthops)):\n",
    "        if df2['outlier'].iloc[i]:\n",
    "            plt.bar(ttls[i], desv[i], color='red')\n",
    "        if desv[i] > percentil or df2['outlier'].iloc[i]:\n",
    "            plt.text(ttls[i], desv[i], \"%.2f ms\" %rtthops[i], ha='center', va='bottom')\n",
    "    plt.xlabel('TTLs')\n",
    "    plt.xticks(df2['ttl'].tolist())\n",
    "    plt.ylabel('Variación del desvío')\n",
    "    plt.title('Variación del desvío de TTLs, comparación con el valor de corte fijo y outliers de Cimbala')\n",
    "    plt.legend(labels=['Valor de corte fijo', 'Outliers Cimbala'], \n",
    "               handles=[plt.Line2D([], [], color='r', linestyle='--'), \n",
    "                        plt.Rectangle((0, 0), 1, 1, color='red')])\n",
    "    # plt.savefig(filename.replace('.csv', '_desvio.svg').replace('traces/', 'svg/'))\n",
    "    plt.show()\n",
    "\n",
    "graficar_variacion_desvio(filename, df)"
   ]
  },
  {
   "attachments": {},
   "cell_type": "markdown",
   "id": "99362548",
   "metadata": {},
   "source": [
    "<h1>Exportar dataframe de archivo</h1>"
   ]
  },
  {
   "cell_type": "code",
   "execution_count": null,
   "id": "0dede28a",
   "metadata": {},
   "outputs": [],
   "source": [
    "# df.to_csv(filename, index=False)"
   ]
  },
  {
   "attachments": {},
   "cell_type": "markdown",
   "id": "801a9223",
   "metadata": {},
   "source": [
    "<h1>Importar dataframe de archivo</h1>"
   ]
  },
  {
   "cell_type": "code",
   "execution_count": null,
   "id": "a0dff315",
   "metadata": {},
   "outputs": [],
   "source": [
    "# df = pd.read_csv(filename)"
   ]
  },
  {
   "attachments": {},
   "cell_type": "markdown",
   "id": "36c2eb53",
   "metadata": {},
   "source": [
    "<h1>Mapas</h1>"
   ]
  },
  {
   "attachments": {},
   "cell_type": "markdown",
   "id": "30e94b80",
   "metadata": {},
   "source": [
    "<h2>Estos mapas generados son muy poco confiables, por ende decidimos no incluirlos en el informe, pero se pueden utilizar en caso de querer verlos</h2>"
   ]
  },
  {
   "cell_type": "code",
   "execution_count": null,
   "id": "21565626",
   "metadata": {},
   "outputs": [],
   "source": [
    "import requests\n",
    "import plotly.graph_objects as go\n",
    "import geopandas as gpd\n",
    "from ip2geotools.databases.noncommercial import DbIpCity"
   ]
  },
  {
   "attachments": {},
   "cell_type": "markdown",
   "id": "9888eed3",
   "metadata": {},
   "source": [
    "<h2>Conseguimos coordenadas para mapa de ruta</h2>"
   ]
  },
  {
   "cell_type": "code",
   "execution_count": null,
   "id": "7f44a0c8",
   "metadata": {},
   "outputs": [],
   "source": [
    "def get_coords(ip):\n",
    "    # usamos try porque a veces la pagina no responde y algunas bloquean si se mandan muchos requests\n",
    "    if ip.startswith('192.168.') or ip.startswith('10.'):\n",
    "        # si es una ip privada, no se puede conseguir coordenadas, ponemos buenos aires\n",
    "        return -34.613150, -58.377230\n",
    "    try:\n",
    "        texto = requests.get('https://www.geodatatool.com/en/?ip=' + ip, timeout=62).text.split('\\n')\n",
    "        lista = []\n",
    "        for linea in texto:\n",
    "            lista += linea.split(' ')\n",
    "\n",
    "        for idx, palabra in enumerate(lista):\n",
    "            if 'Latitude:' in palabra:\n",
    "                latitud = float(lista[idx+1].replace('<span>', '').replace('</span>', '').strip())\n",
    "            if 'Longitude:' in palabra:\n",
    "                longitud = float(lista[idx+1].replace('<span>', '').replace('</span>', '').strip())\n",
    "        if latitud == 0.0 and longitud == 0.0:\n",
    "            raise Exception\n",
    "        return latitud, longitud\n",
    "    except:\n",
    "        print('fallo geodatatool para ip: ' + ip)\n",
    "        try:\n",
    "            texto = requests.get('https://dazzlepod.com/ip/' + ip + '.json', timeout=62).json()\n",
    "            return texto['latitude'], texto['longitude']\n",
    "        except:\n",
    "            try:\n",
    "                response = DbIpCity.get(ip, api_key='free')\n",
    "                return response.latitude, response.longitude\n",
    "            except:\n",
    "                return None, None\n",
    "\n",
    "coords = {ip : get_coords(ip) for ip in tqdm(df['ip'])}\n",
    "df['lat'] = df['ip'].apply(lambda x: coords[x][0])\n",
    "df['lon'] = df['ip'].apply(lambda x: coords[x][1])\n",
    "\n",
    "df"
   ]
  },
  {
   "attachments": {},
   "cell_type": "markdown",
   "id": "bf733d7b",
   "metadata": {},
   "source": [
    "<h2>Mapa de ruta simple</h2>"
   ]
  },
  {
   "cell_type": "code",
   "execution_count": null,
   "id": "13696518",
   "metadata": {},
   "outputs": [],
   "source": [
    "countries = gpd.read_file(gpd.datasets.get_path(\"naturalearth_lowres\"))\n",
    "\n",
    "fig, ax = plt.subplots(figsize = (20,15))\n",
    "countries.plot(color=\"lightgrey\", ax = ax)\n",
    "\n",
    "df.plot(x=\"lon\", y=\"lat\", kind=\"line\" , title=\"test\", ax=ax)\n",
    "df[1:-1].plot(x=\"lon\", y=\"lat\", kind=\"scatter\", title=\"test\", ax=ax)\n",
    "\n",
    "# make source and destination different colors and size on the scatte plot\n",
    "df.loc[0:1].plot(x=\"lon\", y=\"lat\", kind=\"scatter\", color=\"red\", s=5, ax=ax)\n",
    "# ojo q si reached es falso esto no es el destino sino el ultimo q respondio:\n",
    "df.loc[len(df)-1:].plot(x=\"lon\", y=\"lat\", kind=\"scatter\", color=\"lightgreen\", s=5, ax=ax)"
   ]
  },
  {
   "attachments": {},
   "cell_type": "markdown",
   "id": "53116345",
   "metadata": {},
   "source": [
    "<h1>Mapa de ruta interactivo</h1>"
   ]
  },
  {
   "cell_type": "code",
   "execution_count": null,
   "id": "427ada1d",
   "metadata": {},
   "outputs": [],
   "source": [
    "fig = go.Figure()\n",
    "\n",
    "fig.add_trace(go.Scattergeo(\n",
    "    locationmode = 'ISO-3',\n",
    "    lon = df['lon'],\n",
    "    lat = df['lat'],\n",
    "    hoverinfo = 'text',\n",
    "    text = df['ttl'],\n",
    "    mode = 'markers',\n",
    "    marker = dict(\n",
    "        size = 10,\n",
    "        color = 'rgb(255, 0, 0)',\n",
    "        line = dict(\n",
    "            width = 8,\n",
    "            color = 'rgba(68, 68, 68, 0)'\n",
    "        )\n",
    "    )))\n",
    "\n",
    "for i in range(len(df) - 1):\n",
    "    fig.add_trace(\n",
    "        go.Scattergeo(\n",
    "            locationmode = 'ISO-3',\n",
    "            lon = [df['lon'][i], df['lon'][i + 1]],\n",
    "            lat = [df['lat'][i], df['lat'][i + 1]],\n",
    "            mode = 'lines',\n",
    "            line = dict(width = 1,color = 'red'),\n",
    "        )\n",
    "    )\n",
    "\n",
    "fig.update_layout(\n",
    "    width = 1600,\n",
    "    height = 1000,\n",
    "    title = 'Traceroute',\n",
    "    showlegend = False,\n",
    "    geo = dict(\n",
    "        scope = 'world',\n",
    "        showland = True,\n",
    "    )\n",
    ")\n",
    "\n",
    "fig.show()"
   ]
  }
 ],
 "metadata": {
  "kernelspec": {
   "display_name": "Python 3 (ipykernel)",
   "language": "python",
   "name": "python3"
  },
  "language_info": {
   "codemirror_mode": {
    "name": "ipython",
    "version": 3
   },
   "file_extension": ".py",
   "mimetype": "text/x-python",
   "name": "python",
   "nbconvert_exporter": "python",
   "pygments_lexer": "ipython3",
   "version": "3.10.5"
  }
 },
 "nbformat": 4,
 "nbformat_minor": 5
}
