{
 "cells": [
  {
   "cell_type": "code",
   "execution_count": 2,
   "metadata": {},
   "outputs": [],
   "source": [
    "import subprocess\n",
    "import numpy as np\n",
    "import matplotlib.pyplot as plt\n",
    "import pandas as pd\n",
    "from sklearn.utils import shuffle\n",
    "from tqdm.auto import tqdm"
   ]
  },
  {
   "cell_type": "markdown",
   "metadata": {},
   "source": [
    "Ponemos valores iniciales"
   ]
  },
  {
   "cell_type": "code",
   "execution_count": null,
   "metadata": {},
   "outputs": [],
   "source": [
    "PCAbool = str(\"1\")\n",
    "k = str(\"1\")\n",
    "votPes = str(\"1\")\n",
    "alpha = str(\"50\")\n",
    "epsilon = str(\"1e-2\")\n",
    "outCsv = str(\"tempOut.csv\")\n",
    "\n",
    "comando = [f'../cpp/tp2']\n",
    "comando.append(PCAbool)\n",
    "comando.append(k)\n",
    "comando.append(votPes)\n",
    "comando.append(alpha)\n",
    "comando.append(epsilon)\n",
    "comando.append(\"partTrain.csv\")\n",
    "comando.append(\"partTest.csv\")\n",
    "comando.append(outCsv)\n",
    "\n",
    "df_part = pd.read_csv(\"../csv/train.csv\", delimiter=',')\n",
    "\n",
    "proporcion = 0.6"
   ]
  },
  {
   "cell_type": "markdown",
   "metadata": {},
   "source": [
    "Partimos la base de kaggle train"
   ]
  },
  {
   "cell_type": "code",
   "execution_count": null,
   "metadata": {},
   "outputs": [],
   "source": [
    "df_shuffled = shuffle(df_part)\n",
    "\n",
    "limite = int(df_shuffled.shape[0] * proporcion)\n",
    "\n",
    "X_train = df_shuffled.iloc[:limite]\n",
    "X_test = df_shuffled.iloc[limite:]\n",
    "X_train.to_csv(\"../csv/partTrain.csv\", index = False)\n",
    "X_test.to_csv(\"../csv/partTest.csv\", index = False, columns = df_shuffled.columns[1:])\n",
    "\n",
    "expected = X_test.iloc[:,0]"
   ]
  },
  {
   "cell_type": "markdown",
   "metadata": {},
   "source": [
    "Primer experimento, variar los epsilon sobre una misma base (posible overfitting)"
   ]
  },
  {
   "cell_type": "code",
   "execution_count": 14,
   "metadata": {},
   "outputs": [
    {
     "name": "stderr",
     "output_type": "stream",
     "text": [
      " 11%|█         | 1/9 [00:25<03:22, 25.27s/it]"
     ]
    },
    {
     "name": "stdout",
     "output_type": "stream",
     "text": [
      "1 1e-2 24 0.9683333333333334\n"
     ]
    },
    {
     "name": "stderr",
     "output_type": "stream",
     "text": [
      " 22%|██▏       | 2/9 [00:51<03:01, 25.86s/it]"
     ]
    },
    {
     "name": "stdout",
     "output_type": "stream",
     "text": [
      "1 1e-4 25 0.9682738095238095\n"
     ]
    },
    {
     "name": "stderr",
     "output_type": "stream",
     "text": [
      " 33%|███▎      | 3/9 [01:17<02:36, 26.02s/it]"
     ]
    },
    {
     "name": "stdout",
     "output_type": "stream",
     "text": [
      "1 1e-6 25 0.9682738095238095\n"
     ]
    },
    {
     "name": "stderr",
     "output_type": "stream",
     "text": [
      " 44%|████▍     | 4/9 [01:44<02:11, 26.31s/it]"
     ]
    },
    {
     "name": "stdout",
     "output_type": "stream",
     "text": [
      "1 1e-8 25 0.9682738095238095\n"
     ]
    },
    {
     "name": "stderr",
     "output_type": "stream",
     "text": [
      " 56%|█████▌    | 5/9 [02:11<01:46, 26.69s/it]"
     ]
    },
    {
     "name": "stdout",
     "output_type": "stream",
     "text": [
      "1 1e-10 26 0.9682738095238095\n"
     ]
    },
    {
     "name": "stderr",
     "output_type": "stream",
     "text": [
      " 67%|██████▋   | 6/9 [02:40<01:21, 27.20s/it]"
     ]
    },
    {
     "name": "stdout",
     "output_type": "stream",
     "text": [
      "1 1e-12 27 0.9682738095238095\n"
     ]
    },
    {
     "name": "stderr",
     "output_type": "stream",
     "text": [
      " 78%|███████▊  | 7/9 [03:08<00:55, 27.66s/it]"
     ]
    },
    {
     "name": "stdout",
     "output_type": "stream",
     "text": [
      "1 1e-14 27 0.9682738095238095\n"
     ]
    },
    {
     "name": "stderr",
     "output_type": "stream",
     "text": [
      " 89%|████████▉ | 8/9 [03:55<00:33, 33.62s/it]"
     ]
    },
    {
     "name": "stdout",
     "output_type": "stream",
     "text": [
      "0 1e-16 45 0.9682738095238095\n"
     ]
    },
    {
     "name": "stderr",
     "output_type": "stream",
     "text": [
      "100%|██████████| 9/9 [05:11<00:00, 34.62s/it]"
     ]
    },
    {
     "name": "stdout",
     "output_type": "stream",
     "text": [
      "0 1e-18 75 0.9682738095238095\n"
     ]
    },
    {
     "name": "stderr",
     "output_type": "stream",
     "text": [
      "\n"
     ]
    }
   ],
   "source": [
    "epsilons = [f\"1e-{i}\" for i in np.arange(2,20,2)]\n",
    "\n",
    "with open(f\"../csv/expEpsilon.csv\", 'a') as f:\n",
    "    #f.write('conv,epsilon,segundos,accuracy\\n')\n",
    "    for epsilon in tqdm(epsilons):\n",
    "        comando[5] = str(epsilon)\n",
    "\n",
    "        result = subprocess.run(comando, stdout=subprocess.PIPE, encoding='ascii')\n",
    "        conv = int(len(result.stdout.split(' ')) <= 7)\n",
    "\n",
    "        pred = pd.read_csv(\"../csv/\" + outCsv, delimiter=',')\n",
    "        pred_labels = np.array(pred['Label'])\n",
    "        test_labels = np.array(X_test['label'])\n",
    "        array_preds = np.array([pred_labels, test_labels]).T\n",
    "        df_preds = pd.DataFrame(array_preds, columns=[\"pred\", \"test\"])\n",
    "\n",
    "        tiempo = result.stdout.split(' ')[-2]\n",
    "        ok = pred_labels == test_labels\n",
    "        acc = sum(ok) / len(ok)\n",
    "\n",
    "        print(str(conv) + ' ' + str(epsilon) + ' ' + str(tiempo) + ' ' + str(acc))\n",
    "        f.write(str(conv) + ',' + str(epsilon) + ',' + str(tiempo) + ',' + str(acc) + '\\n')\n",
    "    f.close()\n"
   ]
  },
  {
   "cell_type": "markdown",
   "metadata": {},
   "source": [
    "Para ver si es un tema del x0 inicial aleatorio, vamos a repetir el experimento pero esta vez en un rango de epsilon mas chico (con los epsilon mas altos, los que parecen variar mas sus accuracys) y repetimos 10 veces cada corrida con los mismos parametros (lo unico que va a cambiar son los x0)"
   ]
  },
  {
   "cell_type": "code",
   "execution_count": 16,
   "metadata": {},
   "outputs": [
    {
     "name": "stderr",
     "output_type": "stream",
     "text": [
      "  0%|          | 0/6 [00:00<?, ?it/s]"
     ]
    },
    {
     "name": "stdout",
     "output_type": "stream",
     "text": [
      "1 1e-1 32 0.9680357142857143\n",
      "1 1e-1 30 0.9680357142857143\n",
      "1 1e-1 37 0.9680357142857143\n",
      "1 1e-1 37 0.9680357142857143\n",
      "1 1e-1 38 0.9680357142857143\n",
      "1 1e-1 37 0.9680357142857143\n",
      "1 1e-1 37 0.9680357142857143\n",
      "1 1e-1 35 0.9680357142857143\n",
      "1 1e-1 35 0.9680357142857143\n"
     ]
    },
    {
     "name": "stderr",
     "output_type": "stream",
     "text": [
      " 17%|█▋        | 1/6 [06:11<30:58, 371.72s/it]"
     ]
    },
    {
     "name": "stdout",
     "output_type": "stream",
     "text": [
      "1 1e-1 37 0.9680357142857143\n",
      "1,1e-1,35.5,0.9680357142857143\n",
      "\n",
      "1 1e-2 36 0.9683333333333334\n",
      "1 1e-2 37 0.9683333333333334\n",
      "1 1e-2 36 0.9683333333333334\n",
      "1 1e-2 37 0.9683333333333334\n",
      "1 1e-2 36 0.9683333333333334\n",
      "1 1e-2 36 0.9683333333333334\n",
      "1 1e-2 36 0.9683333333333334\n",
      "1 1e-2 37 0.9683333333333334\n",
      "1 1e-2 36 0.9683333333333334\n"
     ]
    },
    {
     "name": "stderr",
     "output_type": "stream",
     "text": [
      " 33%|███▎      | 2/6 [12:32<25:07, 376.92s/it]"
     ]
    },
    {
     "name": "stdout",
     "output_type": "stream",
     "text": [
      "1 1e-2 37 0.9683333333333334\n",
      "1,1e-2,36.4,0.9683333333333335\n",
      "\n",
      "1 1e-3 39 0.9683333333333334\n",
      "1 1e-3 39 0.9683333333333334\n",
      "1 1e-3 37 0.9683333333333334\n",
      "1 1e-3 36 0.9683333333333334\n",
      "1 1e-3 34 0.9683333333333334\n",
      "1 1e-3 37 0.9683333333333334\n",
      "1 1e-3 37 0.9683333333333334\n",
      "1 1e-3 37 0.9683333333333334\n",
      "1 1e-3 38 0.9683333333333334\n"
     ]
    },
    {
     "name": "stderr",
     "output_type": "stream",
     "text": [
      " 50%|█████     | 3/6 [19:00<19:06, 382.22s/it]"
     ]
    },
    {
     "name": "stdout",
     "output_type": "stream",
     "text": [
      "1 1e-3 38 0.9683333333333334\n",
      "1,1e-3,37.2,0.9683333333333335\n",
      "\n",
      "1 1e-4 40 0.9682738095238095\n",
      "1 1e-4 37 0.9682738095238095\n",
      "1 1e-4 39 0.9682738095238095\n",
      "1 1e-4 37 0.9682738095238095\n",
      "1 1e-4 38 0.9682738095238095\n",
      "1 1e-4 38 0.9682738095238095\n",
      "1 1e-4 36 0.9682738095238095\n",
      "1 1e-4 34 0.9682738095238095\n",
      "1 1e-4 37 0.9682738095238095\n"
     ]
    },
    {
     "name": "stderr",
     "output_type": "stream",
     "text": [
      " 67%|██████▋   | 4/6 [25:28<12:48, 384.33s/it]"
     ]
    },
    {
     "name": "stdout",
     "output_type": "stream",
     "text": [
      "1 1e-4 36 0.9682738095238095\n",
      "1,1e-4,37.2,0.9682738095238095\n",
      "\n",
      "1 1e-5 36 0.9682738095238095\n",
      "1 1e-5 38 0.9682738095238095\n",
      "1 1e-5 37 0.9682738095238095\n",
      "1 1e-5 38 0.9682738095238095\n",
      "1 1e-5 36 0.9682738095238095\n",
      "1 1e-5 38 0.9682738095238095\n",
      "1 1e-5 35 0.9682738095238095\n",
      "1 1e-5 33 0.9682738095238095\n",
      "1 1e-5 36 0.9682738095238095\n"
     ]
    },
    {
     "name": "stderr",
     "output_type": "stream",
     "text": [
      " 83%|████████▎ | 5/6 [31:45<06:21, 381.69s/it]"
     ]
    },
    {
     "name": "stdout",
     "output_type": "stream",
     "text": [
      "1 1e-5 34 0.9682738095238095\n",
      "1,1e-5,36.1,0.9682738095238095\n",
      "\n",
      "1 1e-6 35 0.9682738095238095\n",
      "1 1e-6 35 0.9682738095238095\n",
      "1 1e-6 36 0.9682738095238095\n",
      "1 1e-6 36 0.9682738095238095\n",
      "1 1e-6 38 0.9682738095238095\n",
      "1 1e-6 36 0.9682738095238095\n",
      "1 1e-6 35 0.9682738095238095\n",
      "1 1e-6 31 0.9682738095238095\n",
      "1 1e-6 35 0.9682738095238095\n"
     ]
    },
    {
     "name": "stderr",
     "output_type": "stream",
     "text": [
      "100%|██████████| 6/6 [37:53<00:00, 378.89s/it]"
     ]
    },
    {
     "name": "stdout",
     "output_type": "stream",
     "text": [
      "1 1e-6 37 0.9682738095238095\n",
      "1,1e-6,35.4,0.9682738095238095\n",
      "\n"
     ]
    },
    {
     "name": "stderr",
     "output_type": "stream",
     "text": [
      "\n"
     ]
    }
   ],
   "source": [
    "cant = 10\n",
    "epsilons = [f\"1e-{i}\" for i in np.arange(1,7,1)]\n",
    "\n",
    "with open(f\"../csv/expEpsilon2.csv\", 'a') as f:\n",
    "    #f.write('conv,epsilon,segundos,accuracy\\n')\n",
    "    for epsilon in tqdm(epsilons):\n",
    "        comando[5] = str(epsilon)\n",
    "        conv = True\n",
    "        tiempo = 0\n",
    "        acc = 0\n",
    "        for i in np.arange(cant):\n",
    "            result = subprocess.run(comando, stdout=subprocess.PIPE, encoding='ascii')\n",
    "            if (len(result.stdout.split(' ')) > 7):\n",
    "                conv = False\n",
    "\n",
    "            pred = pd.read_csv(\"../csv/\" + outCsv, delimiter=',')\n",
    "            pred_labels = np.array(pred['Label'])\n",
    "            test_labels = np.array(X_test['label'])\n",
    "            array_preds = np.array([pred_labels, test_labels]).T\n",
    "            df_preds = pd.DataFrame(array_preds, columns=[\"pred\", \"test\"])\n",
    "\n",
    "            tiempo = tiempo + int(result.stdout.split(' ')[-2])\n",
    "            ok = pred_labels == test_labels\n",
    "            acc = acc + (sum(ok) / len(ok))\n",
    "\n",
    "            print(str(int(len(result.stdout.split(' ')) <= 7)) + ' ' + str(epsilon) + ' ' + str(result.stdout.split(' ')[-2]) + ' ' + str(sum(ok)/len(ok)))\n",
    "\n",
    "        tiempo = str(tiempo / cant)\n",
    "        acc = str(acc / cant)\n",
    "        f.write(str(int(conv)) + ',' + str(epsilon) + ',' + tiempo + ',' + acc + '\\n')\n",
    "        print(str(int(conv)) + ',' + str(epsilon) + ',' + tiempo + ',' + acc + '\\n')\n",
    "    f.close()\n"
   ]
  },
  {
   "cell_type": "markdown",
   "metadata": {},
   "source": [
    "No parece ser un tema del x0 inicial, posiblemente sea un caso de overfitting. Probemos usando K-fold cross validation:"
   ]
  },
  {
   "cell_type": "code",
   "execution_count": null,
   "metadata": {},
   "outputs": [],
   "source": [
    "from main import kFold_CV\n",
    "\n",
    "df_train = pd.read_csv(\"../csv/train.csv\", delimiter=',')\n",
    "\n",
    "epsilons = [f\"1e-{i}\" for i in np.arange(1,7,1)]\n",
    "folds = 5\n",
    "\n",
    "for epsilon in tqdm(epsilons):\n",
    "    duracion, accuracy, metricas_tot_kfolds, list_df_preds = kFold_CV(df_train,folds,epsilon=str(epsilon))\n",
    "    print(str(epsilon) + ' ' + str(duracion / folds) + ' ' + str(np.mean(accuracy)))"
   ]
  },
  {
   "cell_type": "markdown",
   "metadata": {},
   "source": [
    "K-fold cross validation para buscar los mejores parametros para kNN y PCA en un rango acotado por experimentos iniciales"
   ]
  },
  {
   "cell_type": "code",
   "execution_count": null,
   "metadata": {},
   "outputs": [],
   "source": [
    "from main import kFold_CV\n",
    "\n",
    "df_train = pd.read_csv(\"../csv/train.csv\", delimiter=',')\n",
    "alphas = np.arange(25,70,2)\n",
    "ks = np.arange(1,16,2)\n",
    "folds = 12\n",
    "for PCAbool in range(2):\n",
    "    if PCAbool == 1:\n",
    "        for alpha in alphas:\n",
    "            for k in ks:\n",
    "                for votPes in range(2):\n",
    "                    #kFold_CV(df_train,folds,str(PCAbool),str(k),str(votPes),str(alpha))\n",
    "                    if alpha == max(alphas) and k == max(ks) and votPes == 0:\n",
    "                        kFold_CV(df_train,folds,\"1\",str(k),str(votPes),str(alpha),guardarKMasCercanosBool=\"1\")\n",
    "                    elif k == max(ks) and votPes == 0:\n",
    "                        kFold_CV(df_train,folds,\"1\",str(k),str(votPes),str(alpha),guardarKMasCercanosBool=\"1\",guardarAvectsBool=\"0\",leerAVect=\"1\")\n",
    "                    else:\n",
    "                        kFold_CV(df_train,folds,\"1\",str(k),str(votPes),str(alpha),guardarAvectsBool=\"0\",leerKMasCercanos=\"1\")\n",
    "    else:\n",
    "        for k in ks:\n",
    "            for votPes in range(2):\n",
    "                if k == max(ks) and votPes == 0:\n",
    "                    kFold_CV(df_train,folds,\"1\",str(k),str(votPes),str(alpha),guardarKMasCercanosBool=\"1\",guardarAvectsBool=\"0\",leerAVect=\"1\")\n",
    "                else:\n",
    "                    kFold_CV(df_train,folds,\"1\",str(k),str(votPes),str(alpha),guardarAvectsBool=\"0\",leerKMasCercanos=\"1\")"
   ]
  },
  {
   "cell_type": "markdown",
   "metadata": {},
   "source": [
    "Hacemos mas zoom en PCA"
   ]
  },
  {
   "cell_type": "code",
   "execution_count": 3,
   "metadata": {},
   "outputs": [
    {
     "name": "stderr",
     "output_type": "stream",
     "text": [
      "100%|██████████| 5/5 [02:13<00:00, 26.78s/it]\n"
     ]
    },
    {
     "name": "stdout",
     "output_type": "stream",
     "text": [
      "Listo!\n"
     ]
    },
    {
     "name": "stderr",
     "output_type": "stream",
     "text": [
      "100%|██████████| 5/5 [02:13<00:00, 26.75s/it]\n"
     ]
    },
    {
     "name": "stdout",
     "output_type": "stream",
     "text": [
      "Listo!\n"
     ]
    },
    {
     "name": "stderr",
     "output_type": "stream",
     "text": [
      "100%|██████████| 5/5 [02:13<00:00, 26.63s/it]\n"
     ]
    },
    {
     "name": "stdout",
     "output_type": "stream",
     "text": [
      "Listo!\n"
     ]
    },
    {
     "name": "stderr",
     "output_type": "stream",
     "text": [
      "100%|██████████| 5/5 [02:10<00:00, 26.03s/it]\n"
     ]
    },
    {
     "name": "stdout",
     "output_type": "stream",
     "text": [
      "Listo!\n"
     ]
    },
    {
     "name": "stderr",
     "output_type": "stream",
     "text": [
      "100%|██████████| 5/5 [02:06<00:00, 25.37s/it]\n"
     ]
    },
    {
     "name": "stdout",
     "output_type": "stream",
     "text": [
      "Listo!\n"
     ]
    },
    {
     "name": "stderr",
     "output_type": "stream",
     "text": [
      "100%|██████████| 5/5 [02:00<00:00, 24.16s/it]\n"
     ]
    },
    {
     "name": "stdout",
     "output_type": "stream",
     "text": [
      "Listo!\n"
     ]
    },
    {
     "name": "stderr",
     "output_type": "stream",
     "text": [
      "100%|██████████| 5/5 [01:56<00:00, 23.29s/it]\n"
     ]
    },
    {
     "name": "stdout",
     "output_type": "stream",
     "text": [
      "Listo!\n"
     ]
    },
    {
     "name": "stderr",
     "output_type": "stream",
     "text": [
      "100%|██████████| 5/5 [01:52<00:00, 22.43s/it]\n"
     ]
    },
    {
     "name": "stdout",
     "output_type": "stream",
     "text": [
      "Listo!\n"
     ]
    },
    {
     "name": "stderr",
     "output_type": "stream",
     "text": [
      "100%|██████████| 5/5 [01:48<00:00, 21.79s/it]\n"
     ]
    },
    {
     "name": "stdout",
     "output_type": "stream",
     "text": [
      "Listo!\n"
     ]
    },
    {
     "name": "stderr",
     "output_type": "stream",
     "text": [
      "100%|██████████| 5/5 [01:41<00:00, 20.30s/it]\n"
     ]
    },
    {
     "name": "stdout",
     "output_type": "stream",
     "text": [
      "Listo!\n"
     ]
    },
    {
     "name": "stderr",
     "output_type": "stream",
     "text": [
      "100%|██████████| 5/5 [01:38<00:00, 19.71s/it]\n"
     ]
    },
    {
     "name": "stdout",
     "output_type": "stream",
     "text": [
      "Listo!\n"
     ]
    },
    {
     "name": "stderr",
     "output_type": "stream",
     "text": [
      "100%|██████████| 5/5 [01:34<00:00, 18.93s/it]\n"
     ]
    },
    {
     "name": "stdout",
     "output_type": "stream",
     "text": [
      "Listo!\n"
     ]
    },
    {
     "name": "stderr",
     "output_type": "stream",
     "text": [
      "100%|██████████| 5/5 [01:29<00:00, 17.97s/it]\n"
     ]
    },
    {
     "name": "stdout",
     "output_type": "stream",
     "text": [
      "Listo!\n"
     ]
    },
    {
     "name": "stderr",
     "output_type": "stream",
     "text": [
      "100%|██████████| 5/5 [01:27<00:00, 17.41s/it]\n"
     ]
    },
    {
     "name": "stdout",
     "output_type": "stream",
     "text": [
      "Listo!\n"
     ]
    },
    {
     "name": "stderr",
     "output_type": "stream",
     "text": [
      "100%|██████████| 5/5 [01:26<00:00, 17.23s/it]\n"
     ]
    },
    {
     "name": "stdout",
     "output_type": "stream",
     "text": [
      "Listo!\n"
     ]
    },
    {
     "name": "stderr",
     "output_type": "stream",
     "text": [
      "100%|██████████| 5/5 [01:22<00:00, 16.58s/it]"
     ]
    },
    {
     "name": "stdout",
     "output_type": "stream",
     "text": [
      "Listo!\n"
     ]
    },
    {
     "name": "stderr",
     "output_type": "stream",
     "text": [
      "\n"
     ]
    }
   ],
   "source": [
    "from main import kFold_CV\n",
    "\n",
    "df_train = pd.read_csv(\"../csv/train.csv\", delimiter=',')\n",
    "alphas = np.arange(55,24,-2)\n",
    "k = 3\n",
    "folds = 5\n",
    "\n",
    "for alpha in alphas:\n",
    "    kFold_CV(df_train,folds,\"1\",str(k),\"0\",str(alpha))"
   ]
  },
  {
   "cell_type": "markdown",
   "metadata": {},
   "source": [
    "Hacemos mas zoom solo kNN"
   ]
  },
  {
   "cell_type": "code",
   "execution_count": 5,
   "metadata": {},
   "outputs": [
    {
     "name": "stderr",
     "output_type": "stream",
     "text": [
      "100%|██████████| 4/4 [26:49<00:00, 402.42s/it]\n"
     ]
    },
    {
     "name": "stdout",
     "output_type": "stream",
     "text": [
      "Listo!\n"
     ]
    },
    {
     "name": "stderr",
     "output_type": "stream",
     "text": [
      "100%|██████████| 4/4 [00:15<00:00,  3.98s/it]\n"
     ]
    },
    {
     "name": "stdout",
     "output_type": "stream",
     "text": [
      "Listo!\n"
     ]
    },
    {
     "name": "stderr",
     "output_type": "stream",
     "text": [
      "100%|██████████| 4/4 [00:15<00:00,  3.95s/it]\n"
     ]
    },
    {
     "name": "stdout",
     "output_type": "stream",
     "text": [
      "Listo!\n"
     ]
    },
    {
     "name": "stderr",
     "output_type": "stream",
     "text": [
      "100%|██████████| 4/4 [00:15<00:00,  3.90s/it]\n"
     ]
    },
    {
     "name": "stdout",
     "output_type": "stream",
     "text": [
      "Listo!\n"
     ]
    },
    {
     "name": "stderr",
     "output_type": "stream",
     "text": [
      "100%|██████████| 4/4 [00:15<00:00,  3.92s/it]\n"
     ]
    },
    {
     "name": "stdout",
     "output_type": "stream",
     "text": [
      "Listo!\n"
     ]
    },
    {
     "name": "stderr",
     "output_type": "stream",
     "text": [
      "100%|██████████| 4/4 [00:15<00:00,  3.91s/it]\n"
     ]
    },
    {
     "name": "stdout",
     "output_type": "stream",
     "text": [
      "Listo!\n"
     ]
    },
    {
     "name": "stderr",
     "output_type": "stream",
     "text": [
      "100%|██████████| 4/4 [00:15<00:00,  3.92s/it]\n"
     ]
    },
    {
     "name": "stdout",
     "output_type": "stream",
     "text": [
      "Listo!\n"
     ]
    },
    {
     "name": "stderr",
     "output_type": "stream",
     "text": [
      "100%|██████████| 4/4 [00:15<00:00,  3.91s/it]\n"
     ]
    },
    {
     "name": "stdout",
     "output_type": "stream",
     "text": [
      "Listo!\n"
     ]
    },
    {
     "name": "stderr",
     "output_type": "stream",
     "text": [
      "100%|██████████| 4/4 [00:15<00:00,  3.90s/it]\n"
     ]
    },
    {
     "name": "stdout",
     "output_type": "stream",
     "text": [
      "Listo!\n"
     ]
    },
    {
     "name": "stderr",
     "output_type": "stream",
     "text": [
      "100%|██████████| 4/4 [00:15<00:00,  3.91s/it]\n"
     ]
    },
    {
     "name": "stdout",
     "output_type": "stream",
     "text": [
      "Listo!\n"
     ]
    },
    {
     "name": "stderr",
     "output_type": "stream",
     "text": [
      "100%|██████████| 4/4 [00:15<00:00,  3.91s/it]\n"
     ]
    },
    {
     "name": "stdout",
     "output_type": "stream",
     "text": [
      "Listo!\n"
     ]
    },
    {
     "name": "stderr",
     "output_type": "stream",
     "text": [
      "100%|██████████| 4/4 [00:15<00:00,  3.92s/it]\n"
     ]
    },
    {
     "name": "stdout",
     "output_type": "stream",
     "text": [
      "Listo!\n"
     ]
    },
    {
     "name": "stderr",
     "output_type": "stream",
     "text": [
      "100%|██████████| 4/4 [00:15<00:00,  3.91s/it]\n"
     ]
    },
    {
     "name": "stdout",
     "output_type": "stream",
     "text": [
      "Listo!\n"
     ]
    },
    {
     "name": "stderr",
     "output_type": "stream",
     "text": [
      "100%|██████████| 4/4 [00:15<00:00,  3.91s/it]\n"
     ]
    },
    {
     "name": "stdout",
     "output_type": "stream",
     "text": [
      "Listo!\n"
     ]
    },
    {
     "name": "stderr",
     "output_type": "stream",
     "text": [
      "100%|██████████| 4/4 [00:15<00:00,  3.90s/it]\n"
     ]
    },
    {
     "name": "stdout",
     "output_type": "stream",
     "text": [
      "Listo!\n"
     ]
    },
    {
     "name": "stderr",
     "output_type": "stream",
     "text": [
      "100%|██████████| 4/4 [00:15<00:00,  3.91s/it]"
     ]
    },
    {
     "name": "stdout",
     "output_type": "stream",
     "text": [
      "Listo!\n"
     ]
    },
    {
     "name": "stderr",
     "output_type": "stream",
     "text": [
      "\n"
     ]
    }
   ],
   "source": [
    "from main import kFold_CV\n",
    "\n",
    "df_train = pd.read_csv(\"../csv/train.csv\", delimiter=',')\n",
    "ks = [8,7,6,5,4,3,2,1]\n",
    "folds = 4\n",
    "\n",
    "for k in ks:\n",
    "    for votPes in range(2):\n",
    "        if k == max(ks) and votPes == 0:\n",
    "            kFold_CV(df_train,folds,\"0\",str(k),str(votPes),str(alpha),guardarKMasCercanosBool=\"1\")\n",
    "        else:\n",
    "            kFold_CV(df_train,folds,\"0\",str(k),str(votPes),str(alpha),leerKMasCercanos=\"1\")"
   ]
  },
  {
   "cell_type": "markdown",
   "metadata": {},
   "source": [
    "PCA vs kNN (tiempo y accuracy en csv, kappa de cohen en consola)"
   ]
  },
  {
   "cell_type": "code",
   "execution_count": 11,
   "metadata": {},
   "outputs": [
    {
     "name": "stdout",
     "output_type": "stream",
     "text": [
      "         0     1     2      3\n",
      "0     True  True  True  False\n",
      "1     True  True  True  False\n",
      "2     True  True  True  False\n",
      "3     True  True  True  False\n",
      "4     True  True  True  False\n",
      "...    ...   ...   ...    ...\n",
      "8395  True  True  True  False\n",
      "8396  True  True  True  False\n",
      "8397  True  True  True  False\n",
      "8398  True  True  True  False\n",
      "8399  True  True  True  False\n",
      "\n",
      "[8400 rows x 4 columns]\n",
      "0.9810714285714286\n",
      "0.9470595238095237\n",
      "         0     1     2      3\n",
      "0     True  True  True  False\n",
      "1     True  True  True  False\n",
      "2     True  True  True  False\n",
      "3     True  True  True  False\n",
      "4     True  True  True  False\n",
      "...    ...   ...   ...    ...\n",
      "8395  True  True  True  False\n",
      "8396  True  True  True  False\n",
      "8397  True  True  True  False\n",
      "8398  True  True  True  False\n",
      "8399  True  True  True  False\n",
      "\n",
      "[8400 rows x 4 columns]\n",
      "0.9773809523809524\n",
      "0.945345096371882\n",
      "          0     1      2      3\n",
      "0     False  True  False  False\n",
      "1     False  True  False  False\n",
      "2      True  True   True  False\n",
      "3      True  True   True  False\n",
      "4      True  True   True  False\n",
      "...     ...   ...    ...    ...\n",
      "8395   True  True   True  False\n",
      "8396   True  True   True  False\n",
      "8397   True  True   True  False\n",
      "8398   True  True   True  False\n",
      "8399   True  True   True  False\n",
      "\n",
      "[8400 rows x 4 columns]\n",
      "0.9797619047619047\n",
      "0.9339822278911566\n",
      "         0     1     2      3\n",
      "0     True  True  True  False\n",
      "1     True  True  True  False\n",
      "2     True  True  True  False\n",
      "3     True  True  True  False\n",
      "4     True  True  True  False\n",
      "...    ...   ...   ...    ...\n",
      "8395  True  True  True  False\n",
      "8396  True  True  True  False\n",
      "8397  True  True  True  False\n",
      "8398  True  True  True  False\n",
      "8399  True  True  True  False\n",
      "\n",
      "[8400 rows x 4 columns]\n",
      "0.9811904761904762\n",
      "0.9370852607709751\n",
      "         0     1     2      3\n",
      "0     True  True  True  False\n",
      "1     True  True  True  False\n",
      "2     True  True  True  False\n",
      "3     True  True  True  False\n",
      "4     True  True  True  False\n",
      "...    ...   ...   ...    ...\n",
      "8395  True  True  True  False\n",
      "8396  True  True  True  False\n",
      "8397  True  True  True  False\n",
      "8398  True  True  True  False\n",
      "8399  True  True  True  False\n",
      "\n",
      "[8400 rows x 4 columns]\n",
      "0.981904761904762\n",
      "0.9456004535147392\n",
      "------------------------------------------------------------------------------\n",
      "[0.6424555880368797, 0.5861478821195658, 0.6934447408384403, 0.7010315223424418, 0.6673641737042635]\n"
     ]
    }
   ],
   "source": [
    "from main import kFold_CV\n",
    "from main import kappaDeCohen\n",
    "\n",
    "df_train = pd.read_csv(\"../csv/train.csv\", delimiter=',')\n",
    "folds = 5\n",
    "\n",
    "alpha = 35\n",
    "\n",
    "ls_df_kNN = kFold_CV(df_train,folds,\"0\",\"3\",\"0\",\"50\")[3] # mejor parametro de kNN\n",
    "\n",
    "ls_df_PCA = kFold_CV(df_train,folds,\"1\",\"3\",\"0\",str(alpha))[3] # mejor parametro de PCA\n",
    "\n",
    "ls_kappa = kappaDeCohen(ls_df_kNN, ls_df_PCA)\n",
    "print(\"------------------------------------------------------------------------------\")\n",
    "print(ls_kappa)"
   ]
  }
 ],
 "metadata": {
  "interpreter": {
   "hash": "916dbcbb3f70747c44a77c7bcd40155683ae19c65e1c03b4aa3499c5328201f1"
  },
  "kernelspec": {
   "display_name": "Python 3.8.10 64-bit",
   "language": "python",
   "name": "python3"
  },
  "language_info": {
   "codemirror_mode": {
    "name": "ipython",
    "version": 3
   },
   "file_extension": ".py",
   "mimetype": "text/x-python",
   "name": "python",
   "nbconvert_exporter": "python",
   "pygments_lexer": "ipython3",
   "version": "3.8.10"
  },
  "orig_nbformat": 4
 },
 "nbformat": 4,
 "nbformat_minor": 2
}
