{
 "cells": [
  {
   "cell_type": "code",
   "execution_count": 1,
   "id": "7e2b65ed",
   "metadata": {},
   "outputs": [
    {
     "name": "stderr",
     "output_type": "stream",
     "text": [
      "/home/lucas/.local/lib/python3.8/site-packages/tqdm/auto.py:22: TqdmWarning: IProgress not found. Please update jupyter and ipywidgets. See https://ipywidgets.readthedocs.io/en/stable/user_install.html\n",
      "  from .autonotebook import tqdm as notebook_tqdm\n"
     ]
    }
   ],
   "source": [
    "import matplotlib.image as image\n",
    "import os\n",
    "import subprocess\n",
    "from PIL import Image\n",
    "import numpy as np\n",
    "import matplotlib.pyplot as plt\n",
    "import pandas as pd\n",
    "from tqdm.auto import tqdm"
   ]
  },
  {
   "cell_type": "markdown",
   "id": "3a5349fc",
   "metadata": {},
   "source": [
    "Copiamos las imagenes de oscuro a la carpeta todas"
   ]
  },
  {
   "cell_type": "code",
   "execution_count": 2,
   "id": "2a78b716",
   "metadata": {},
   "outputs": [],
   "source": [
    "# copiamos las imagenes de oscuro a la carpeta todas\n",
    "directory = '../im/oscuro/'\n",
    "for filename in os.listdir(directory):\n",
    "    img = image.imread(directory + filename)\n",
    "    image.imsave(\"../im/todas/\" + filename, img)"
   ]
  },
  {
   "cell_type": "markdown",
   "id": "0b9e3819",
   "metadata": {},
   "source": [
    "Pasamos las imagenes claras a oscuras"
   ]
  },
  {
   "cell_type": "code",
   "execution_count": 3,
   "id": "bbc0d9b0",
   "metadata": {},
   "outputs": [
    {
     "data": {
      "image/png": "[encoded data removed]",
      "text/plain": [
       "<Figure size 432x288 with 1 Axes>"
      ]
     },
     "metadata": {
      "needs_background": "light"
     },
     "output_type": "display_data"
    }
   ],
   "source": [
    "# pasamos las imagenes claras a oscuras\n",
    "directory = '../im/claro/'\n",
    "for filename in os.listdir(directory):\n",
    "    img = image.imread(directory + filename)\n",
    "    plt.imshow(img, cmap=\"Greys\")\n",
    "    v = img[:,:,:3]  # tomamos la matriz R (R = G = B en este caso)\n",
    "    v = 1 - v  # pasamos a modo oscuro\n",
    "    img[:,:,:3] = v\n",
    "    plt.imshow(img, cmap=\"Greys\")\n",
    "    image.imsave(\"../im/invertidas/\" + filename, img)\n",
    "    image.imsave(\"../im/todas/\" + filename, img)"
   ]
  },
  {
   "cell_type": "markdown",
   "id": "a28ea269",
   "metadata": {},
   "source": [
    "Pasamos todas las imagenes a vectores (con algun cuidado extra sobre RGB vs RGBA) y luego las pasamos a .csv"
   ]
  },
  {
   "cell_type": "code",
   "execution_count": 4,
   "id": "0ee95c3e",
   "metadata": {},
   "outputs": [],
   "source": [
    "# dado un filename consigue el label de esa imagen (decidimos poner los labels como el ultimo caracter del nombre del archivo antes de .png)\n",
    "def label(filename):\n",
    "    for i in range(len(filename)):\n",
    "        if filename[i] == '.':\n",
    "            return filename[i-1]\n",
    "\n",
    "pixeles = []\n",
    "for i in range(783):\n",
    "    pixeles.append(\"pixel\" + str(i) + ',')\n",
    "pixeles.append(\"pixel783\")\n",
    "pixeles = ' '.join(pixeles)\n",
    "pixeles = pixeles.replace(\" \", \"\")\n",
    "\n",
    "# pasamos todas las imagenes a vectores y las pasamos de RGB/RGBA[0-1] a GS[0-255] luego las pasamos a .csv\n",
    "directory = '../im/todas/'\n",
    "with open(f\"../csv/testAMano.csv\", 'w') as f:\n",
    "    with open(f\"../csv/expectedAMano.csv\", 'w') as fe:\n",
    "        i = 0\n",
    "        f.write(pixeles + '\\n')  # pongo la primer linea de test\n",
    "        fe.write(\"ImageId,Label\" + '\\n')  # pongo la primer linea de expected\n",
    "        for filename in os.listdir(directory):\n",
    "            #if filename.startswith('J') or filename.startswith('L'):\n",
    "            if True:\n",
    "                img = image.imread(directory + filename)\n",
    "                v = img[:,:,:3]  # tomamos las matrices R, G y B (R = G = B en este caso, ignoramos la matriz A en caso de que exista)\n",
    "                v = v * 255  # queremos numeros entre 0 y 255\n",
    "                v = np.round(v)  # queremos numeros enteros\n",
    "                v = v.astype(int)\n",
    "                img[:,:,:3] = v\n",
    "                img = img[:,:,0]  # tomamos solo la matriz R (recordemos R = G = B)\n",
    "                #plt.imshow(img, cmap = \"gray\", vmin = 0, vmax = 255)\n",
    "                image.imsave(\"../im/ImageId/\" + str(i+1) + '.png', img, cmap = \"gray\", vmin = 0, vmax = 255)\n",
    "                img = img.reshape(784)  # reshape de 28x28 a 784 para escribirlo como vector en .csv\n",
    "                img = img.astype(int)\n",
    "                i = i + 1\n",
    "                labelf = label(filename)  # conseguimos el label de la imagen\n",
    "                fe.write(str(i) + ',' + labelf)  # escribimos ImageId y Label (mismo formato que test de kaggle, hay que acordarse de poner la primer linea)\n",
    "                fe.write('\\n')\n",
    "                for j in range(img.size - 1):\n",
    "                    f.write(str(img[j]) + ',')\n",
    "                f.write(str(img[img.size - 1]))\n",
    "                f.write('\\n')\n",
    "        fe.close\n",
    "    f.close"
   ]
  },
  {
   "cell_type": "markdown",
   "id": "23e17654",
   "metadata": {},
   "source": [
    "Codigo para ver una imagen especifica de alguna de las bases (grupo, avect, kaggle test/train)"
   ]
  },
  {
   "cell_type": "code",
   "execution_count": 4,
   "id": "97aed3e3",
   "metadata": {},
   "outputs": [
    {
     "data": {
      "text/plain": [
       "<matplotlib.image.AxesImage at 0x251aa4e23b0>"
      ]
     },
     "execution_count": 4,
     "metadata": {},
     "output_type": "execute_result"
    },
    {
     "data": {
      "image/png": "[encoded data removed]",
      "text/plain": [
       "<Figure size 432x288 with 1 Axes>"
      ]
     },
     "metadata": {
      "needs_background": "light"
     },
     "output_type": "display_data"
    }
   ],
   "source": [
    "base = int(input(\"Imagen de que base?: [0] grupo, [1] avects de ultima corrida, [2] kaggle test, [3] kaggle train\"))\n",
    "if base == 1:\n",
    "    imagenes = pd.read_csv(\"../csv/avect.csv\", delimiter=',')\n",
    "elif base == 2:\n",
    "    imagenes = pd.read_csv(\"../csv/test.csv\", delimiter=',')\n",
    "elif base == 3:\n",
    "    imagenes = pd.read_csv(\"../csv/train.csv\", delimiter=',')\n",
    "else:\n",
    "    imagenes = pd.read_csv(\"../csv/testAMano.csv\", delimiter=',')\n",
    "\n",
    "numIm = int(input(\"Numero de imagen: \"))\n",
    "\n",
    "rtk = [False] * imagenes.shape[0]\n",
    "rtk[numIm] = True\n",
    "\n",
    "img = imagenes[rtk].to_numpy()\n",
    "if base == 3:\n",
    "    img = np.delete(img, 0)\n",
    "img = img.reshape(28,28)\n",
    "plt.imshow(img, cmap=\"gray\")"
   ]
  },
  {
   "cell_type": "markdown",
   "id": "12466737",
   "metadata": {},
   "source": [
    "Imprimimos la media de las imagenes"
   ]
  },
  {
   "cell_type": "code",
   "execution_count": 5,
   "id": "4be2bebf",
   "metadata": {},
   "outputs": [
    {
     "data": {
      "text/plain": [
       "<matplotlib.image.AxesImage at 0x7f8dab6e2ac0>"
      ]
     },
     "execution_count": 5,
     "metadata": {},
     "output_type": "execute_result"
    },
    {
     "data": {
      "image/png": "[encoded data removed]",
      "text/plain": [
       "<Figure size 432x288 with 1 Axes>"
      ]
     },
     "metadata": {
      "needs_background": "light"
     },
     "output_type": "display_data"
    }
   ],
   "source": [
    "imagenes = pd.read_csv(\"../csv/testAMano.csv\", delimiter=',')\n",
    "img = imagenes.to_numpy()\n",
    "mu = img.sum(axis=0)/img.shape[0]\n",
    "mu = mu.reshape(28,28)\n",
    "plt.imshow(mu, cmap=\"gray\")"
   ]
  },
  {
   "cell_type": "markdown",
   "id": "bb1f861a",
   "metadata": {},
   "source": [
    "Probamos la accuracy con distintos parametros en PCA"
   ]
  },
  {
   "cell_type": "code",
   "execution_count": 7,
   "id": "27f644e9",
   "metadata": {},
   "outputs": [
    {
     "name": "stderr",
     "output_type": "stream",
     "text": [
      "100%|██████████| 1/1 [00:06<00:00,  6.86s/it]\n"
     ]
    }
   ],
   "source": [
    "PCAbool = str(\"1\")\n",
    "k = str(\"1\")\n",
    "votPes = str(\"1\")\n",
    "alpha = str(\"50\")\n",
    "epsilon = str(\"1e-6\")\n",
    "outCsv = str(\"aManoGuess.csv\")\n",
    "\n",
    "expected = pd.read_csv(\"../csv/expectedAMano.csv\")\n",
    "\n",
    "comando = [\"../cpp/tp2\", PCAbool, k, votPes, alpha, epsilon, \"train.csv\", \"testAMano.csv\", outCsv, \"0\", \"1\", \"0\", \"0\"]\n",
    "\n",
    "alphas = range(55, 24, -1)\n",
    "ks = [10,9,8,7,6,5,4,3,1]\n",
    "\n",
    "#alphas = [35]\n",
    "#ks = [3]\n",
    "\n",
    "for alpha in tqdm(alphas):\n",
    "    for k in ks:\n",
    "        for votPes in range(2):\n",
    "            comando[2] = str(k)\n",
    "            comando[3] = str(votPes)\n",
    "            comando[4] = str(alpha)\n",
    "            if alpha == max(alphas) and k == max(ks) and votPes == 0:\n",
    "                comando[9:]=[\"1\", \"1\", \"0\", \"0\"]\n",
    "            elif k == max(ks) and votPes == 0:\n",
    "                comando[9:]=[\"1\", \"0\", \"0\", \"1\"]\n",
    "            else:\n",
    "                comando[9:]=[\"0\", \"0\", \"1\", \"0\"]\n",
    "            result = subprocess.run(comando, stdout=subprocess.PIPE, encoding='ascii')\n",
    "            #print(result.stdout)\n",
    "\n",
    "            salida = pd.read_csv(\"../csv/\" + outCsv, delimiter=',')\n",
    "            salida['match'] = np.where(salida['Label'] == expected['Label'], 'True', 'False')\n",
    "\n",
    "            matches = salida['match'].value_counts()\n",
    "\n",
    "            percent = str((matches[\"True\"] / salida.shape[0]) * 100)\n",
    "            with open(f\"../csv/resIm.csv\", 'a') as f:\n",
    "                f.write(str(k) + ',' + str(votPes) + ',' + str(alpha) + ',' + str(percent) + '\\n')\n",
    "                f.close()\n",
    "            #print(str(alpha) + ' ' + str(k) + ' ' + str(matches[\"True\"]))"
   ]
  }
 ],
 "metadata": {
  "interpreter": {
   "hash": "916dbcbb3f70747c44a77c7bcd40155683ae19c65e1c03b4aa3499c5328201f1"
  },
  "kernelspec": {
   "display_name": "Python 3.8.10 64-bit",
   "language": "python",
   "name": "python3"
  },
  "language_info": {
   "codemirror_mode": {
    "name": "ipython",
    "version": 3
   },
   "file_extension": ".py",
   "mimetype": "text/x-python",
   "name": "python",
   "nbconvert_exporter": "python",
   "pygments_lexer": "ipython3",
   "version": "3.8.10"
  }
 },
 "nbformat": 4,
 "nbformat_minor": 5
}
